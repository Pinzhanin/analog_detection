{
 "cells": [
  {
   "cell_type": "markdown",
   "metadata": {},
   "source": [
    "# Модуль 3"
   ]
  },
  {
   "cell_type": "code",
   "execution_count": 4,
   "metadata": {},
   "outputs": [],
   "source": [
    "import os\n",
    "import random\n",
    "from ultralytics import YOLO"
   ]
  },
  {
   "cell_type": "markdown",
   "metadata": {},
   "source": [
    "#### Входе анализа изображений было онаружено что фактически классов 100, от 00 до 99. Причина по которой они были раскиданы по отльным папкам не ясна. Для более правильного обучения модели было принято решение отказаться от такой струкруты дата сета. Подпапки были соеденены воедино."
   ]
  },
  {
   "cell_type": "code",
   "execution_count": null,
   "metadata": {},
   "outputs": [],
   "source": [
    "def display_project_structure():\n",
    "    print('preprocessed_images')\n",
    "    print('    |-- train')\n",
    "    print('    |   |-- 00')\n",
    "    print('    |   |-- 01')\n",
    "    print('    |   |-- 02')\n",
    "    print('    |   |-- ...')\n",
    "    print('    |   |-- 99')\n",
    "    print('    |-- test')\n",
    "    print('    |   |-- 00')\n",
    "    print('    |   |-- 01')\n",
    "    print('    |   |-- 02')\n",
    "    print('    |   |-- ...')\n",
    "    print('    |   |-- 99')\n",
    "    print('    |-- val')\n",
    "    print('        |-- 00')\n",
    "    print('        |-- 01')\n",
    "    print('        |-- 02')\n",
    "    print('        |-- ...')\n",
    "    print('    |   |-- 99')"
   ]
  },
  {
   "cell_type": "code",
   "execution_count": 17,
   "metadata": {},
   "outputs": [],
   "source": [
    "import os\n",
    "import shutil\n",
    "\n",
    "def group_images_by_suffix(train_path):\n",
    "    # Проходим по всем подпапкам в папке train\n",
    "    for class_folder in os.listdir(train_path):\n",
    "        class_folder_path = os.path.join(train_path, class_folder)\n",
    "\n",
    "        # Проверяем, является ли это папкой\n",
    "        if os.path.isdir(class_folder_path):\n",
    "            # Извлекаем последние две цифры из имени папки\n",
    "            class_id = class_folder[-2:]  # последние 2 символа\n",
    "\n",
    "            # Создаем папку для класса, если она не существует\n",
    "            target_folder = os.path.join(train_path, class_id)\n",
    "            os.makedirs(target_folder, exist_ok=True)\n",
    "\n",
    "            # Перемещаем все файлы в соответствующую папку\n",
    "            for file_name in os.listdir(class_folder_path):\n",
    "                file_path = os.path.join(class_folder_path, file_name)\n",
    "\n",
    "                # Проверяем, является ли это файлом\n",
    "                if os.path.isfile(file_path):\n",
    "                    # Определяем путь назначения\n",
    "                    destination_path = os.path.join(target_folder, file_name)\n",
    "\n",
    "                    # Если файл с таким именем уже существует, пропускаем его\n",
    "                    if os.path.exists(destination_path):\n",
    "                        print(f\"Файл {file_name} уже существует в {target_folder}. Пропускаем.\")\n",
    "                        continue  # Пропускаем перемещение этого файла\n",
    "\n",
    "                    # Перемещаем файл\n",
    "                    shutil.move(file_path, destination_path)\n",
    "\n",
    "            # Удаляем пустую папку после перемещения\n",
    "            try:\n",
    "                os.rmdir(class_folder_path)\n",
    "                print(f\"Папка {class_folder_path} была удалена.\")\n",
    "            except OSError as e:\n",
    "                print(f\"Ошибка при удалении папки {class_folder_path}: {e}\")"
   ]
  },
  {
   "cell_type": "markdown",
   "metadata": {},
   "source": [
    "#### Применяем функцию group_images_by_suffix"
   ]
  },
  {
   "cell_type": "code",
   "execution_count": null,
   "metadata": {},
   "outputs": [],
   "source": [
    "group_images_by_suffix('/home/c13/main_venv/projects/preprocessed_images/train')"
   ]
  },
  {
   "cell_type": "markdown",
   "metadata": {},
   "source": [
    "#### Так же применяем функцию group_images_by_suffix к папкам test val"
   ]
  },
  {
   "cell_type": "code",
   "execution_count": null,
   "metadata": {},
   "outputs": [],
   "source": [
    "group_images_by_suffix('/home/c13/main_venv/projects/preprocessed_images/test')\n",
    "group_images_by_suffix('/home/c13/main_venv/projects/preprocessed_images/val')"
   ]
  },
  {
   "cell_type": "markdown",
   "metadata": {},
   "source": [
    "#### Создаем метки класов для модели Yolo"
   ]
  },
  {
   "cell_type": "code",
   "execution_count": 20,
   "metadata": {},
   "outputs": [],
   "source": [
    "def create_yolo_labels(image_folder):\n",
    "    \"\"\"\n",
    "    Создает метки для изображений в формате YOLO в той же папке, где находятся изображения.\n",
    "\n",
    "    :param image_folder: Путь к корневой папке с изображениями, организованными по классам.\n",
    "    \"\"\"\n",
    "    # Проходим по всем классам (папкам) в указанной папке\n",
    "    for class_name in os.listdir(image_folder):\n",
    "        class_path = os.path.join(image_folder, class_name)\n",
    "\n",
    "        # Проверяем, является ли это папкой\n",
    "        if os.path.isdir(class_path):\n",
    "            # Получаем индекс класса\n",
    "            class_index = int(class_name)  # Предполагаем, что названия папок - это числа от 00 до 99\n",
    "\n",
    "            # Проходим по всем изображениям в папке класса\n",
    "            for image_name in os.listdir(class_path):\n",
    "                if image_name.endswith(('.jpg', '.jpeg', '.png')):  # Проверяем расширение файла\n",
    "                    # Создаем имя файла для меток\n",
    "                    label_file_name = os.path.splitext(image_name)[0] + '.txt'\n",
    "                    label_file_path = os.path.join(class_path, label_file_name)  # Сохраняем в той же папке\n",
    "\n",
    "                    # Записываем метку в файл\n",
    "                    with open(label_file_path, 'w') as label_file:\n",
    "                        # В YOLO формат меток: <class_index> <x_center> <y_center> <width> <height>\n",
    "                        # Здесь мы просто добавим класс, а координаты оставим пустыми\n",
    "                        # В реальной задаче вам нужно будет указать координаты объектов\n",
    "                        label_file.write(f\"{class_index} 0.5 0.5 1.0 1.0\\n\")  # Пример метки\n",
    "\n",
    "# Пример использования функции\n",
    "train_folder = '/home/c13/main_venv/projects/preprocessed_images/train'\n",
    "create_yolo_labels(train_folder)\n",
    "\n",
    "# Для валидации, вы можете вызвать ту же функцию с другой папкой\n",
    "val_folder = '/home/c13/main_venv/projects/preprocessed_images/val'\n",
    "create_yolo_labels(val_folder)"
   ]
  },
  {
   "cell_type": "markdown",
   "metadata": {},
   "source": [
    "#### Применяем функцию create_yolo_labels для создания меток"
   ]
  },
  {
   "cell_type": "code",
   "execution_count": 21,
   "metadata": {},
   "outputs": [],
   "source": [
    "train_folder = '/home/c13/main_venv/projects/preprocessed_images/val'\n",
    "output_labels_folder = '/home/c13/main_venv/projects/yolo_labels/val'\n",
    "create_yolo_labels(train_folder, output_labels_folder)"
   ]
  },
  {
   "cell_type": "markdown",
   "metadata": {},
   "source": [
    "#### Определяем параметры для модели Yolo"
   ]
  },
  {
   "cell_type": "code",
   "execution_count": 45,
   "metadata": {},
   "outputs": [],
   "source": [
    "params = {\n",
    "    'data': '/home/c13/main_venv/projects/data.yaml',  # Путь к файлу с данными\n",
    "    'epochs': 1,  # Количество эпох\n",
    "    'batch': 16,  # Размер батча\n",
    "    'imgsz': 320,  # Размер изображений\n",
    "    'patience': 0,  # Количество эпох без улучшения для ранней остановки\n",
    "    'cache': True,  # Кэширование данных для ускорения\n",
    "}\n"
   ]
  },
  {
   "cell_type": "markdown",
   "metadata": {},
   "source": [
    "## Создаем функцию для обучеиня моделей. "
   ]
  },
  {
   "cell_type": "code",
   "execution_count": 43,
   "metadata": {},
   "outputs": [],
   "source": [
    "import time\n",
    "import json\n",
    "import numpy as np\n",
    "from sklearn.model_selection import train_test_split\n",
    "from sklearn.metrics import accuracy_score, roc_auc_score, f1_score\n",
    "from sklearn.linear_model import LogisticRegression\n",
    "from sklearn.ensemble import RandomForestClassifier\n",
    "from sklearn.svm import SVC\n",
    "from sklearn.datasets import load_iris\n",
    "import subprocess\n",
    "import os\n",
    "\n",
    "def train_model(model_type, **kwargs):\n",
    "    if model_type == 'logistic_regression':\n",
    "        model = LogisticRegression(**kwargs)\n",
    "        start_time = time.time()\n",
    "        model.fit(X_train, y_train)\n",
    "        training_time = time.time() - start_time\n",
    "\n",
    "        y_val_pred = model.predict(X_val)\n",
    "        accuracy = accuracy_score(y_val, y_val_pred)\n",
    "        roc_auc = roc_auc_score(y_val, model.predict_proba(X_val), multi_class='ovr')\n",
    "        f1 = f1_score(y_val, y_val_pred, average='macro')\n",
    "\n",
    "    elif model_type == 'random_forest':\n",
    "        model = RandomForestClassifier(**kwargs)\n",
    "        start_time = time.time()\n",
    "        model.fit(X_train, y_train)\n",
    "        training_time = time.time() - start_time\n",
    "\n",
    "        y_val_pred = model.predict(X_val)\n",
    "        accuracy = accuracy_score(y_val, y_val_pred)\n",
    "        roc_auc = roc_auc_score(y_val, model.predict_proba(X_val), multi_class='ovr')\n",
    "        f1 = f1_score(y_val, y_val_pred, average='macro')\n",
    "\n",
    "    elif model_type == 'yolov5n':\n",
    "        # Start training YOLOv5\n",
    "        model = YOLO(\"yolov5n.yaml\")\n",
    "        start_time = time.time()\n",
    "        results = model.train(**kwargs)  # Pass parameters to train method\n",
    "        training_time = time.time() - start_time\n",
    "\n",
    "        print(\"Training completed in {:.2f} seconds.\".format(training_time))\n",
    "        return results\n",
    "\n",
    "    else:\n",
    "        raise ValueError(\"Unsupported model type. Choose from 'logistic_regression', 'random_forest', or 'yolov5n'.\")"
   ]
  },
  {
   "cell_type": "code",
   "execution_count": null,
   "metadata": {},
   "outputs": [
    {
     "name": "stdout",
     "output_type": "stream",
     "text": [
      "Ultralytics 8.3.70 🚀 Python-3.11.2 torch-2.6.0+cu124 CPU (13th Gen Intel Core(TM) i5-13400)\n",
      "\u001b[34m\u001b[1mengine/trainer: \u001b[0mtask=detect, mode=train, model=yolov5n.yaml, data=/home/c13/main_venv/projects/data.yaml, epochs=1, time=None, patience=0, batch=16, imgsz=320, save=True, save_period=-1, cache=True, device=None, workers=8, project=None, name=train7, exist_ok=False, pretrained=True, optimizer=auto, verbose=True, seed=0, deterministic=True, single_cls=False, rect=False, cos_lr=False, close_mosaic=10, resume=False, amp=True, fraction=1.0, profile=False, freeze=None, multi_scale=False, overlap_mask=True, mask_ratio=4, dropout=0.0, val=True, split=val, save_json=False, save_hybrid=False, conf=None, iou=0.7, max_det=300, half=False, dnn=False, plots=True, source=None, vid_stride=1, stream_buffer=False, visualize=False, augment=False, agnostic_nms=False, classes=None, retina_masks=False, embed=None, show=False, save_frames=False, save_txt=False, save_conf=False, save_crop=False, show_labels=True, show_conf=True, show_boxes=True, line_width=None, format=torchscript, keras=False, optimize=False, int8=False, dynamic=False, simplify=True, opset=None, workspace=None, nms=False, lr0=0.01, lrf=0.01, momentum=0.937, weight_decay=0.0005, warmup_epochs=3.0, warmup_momentum=0.8, warmup_bias_lr=0.1, box=7.5, cls=0.5, dfl=1.5, pose=12.0, kobj=1.0, nbs=64, hsv_h=0.015, hsv_s=0.7, hsv_v=0.4, degrees=0.0, translate=0.1, scale=0.5, shear=0.0, perspective=0.0, flipud=0.0, fliplr=0.5, bgr=0.0, mosaic=1.0, mixup=0.0, copy_paste=0.0, copy_paste_mode=flip, auto_augment=randaugment, erasing=0.4, crop_fraction=1.0, cfg=None, tracker=botsort.yaml, save_dir=runs/detect/train7\n",
      "Overriding model.yaml nc=80 with nc=100\n",
      "\n",
      "                   from  n    params  module                                       arguments                     \n",
      "  0                  -1  1      1760  ultralytics.nn.modules.conv.Conv             [3, 16, 6, 2, 2]              \n",
      "  1                  -1  1      4672  ultralytics.nn.modules.conv.Conv             [16, 32, 3, 2]                \n",
      "  2                  -1  1      4800  ultralytics.nn.modules.block.C3              [32, 32, 1]                   \n",
      "  3                  -1  1     18560  ultralytics.nn.modules.conv.Conv             [32, 64, 3, 2]                \n",
      "  4                  -1  2     29184  ultralytics.nn.modules.block.C3              [64, 64, 2]                   \n",
      "  5                  -1  1     73984  ultralytics.nn.modules.conv.Conv             [64, 128, 3, 2]               \n",
      "  6                  -1  3    156928  ultralytics.nn.modules.block.C3              [128, 128, 3]                 \n",
      "  7                  -1  1    295424  ultralytics.nn.modules.conv.Conv             [128, 256, 3, 2]              \n",
      "  8                  -1  1    296448  ultralytics.nn.modules.block.C3              [256, 256, 1]                 \n",
      "  9                  -1  1    164608  ultralytics.nn.modules.block.SPPF            [256, 256, 5]                 \n",
      " 10                  -1  1     33024  ultralytics.nn.modules.conv.Conv             [256, 128, 1, 1]              \n",
      " 11                  -1  1         0  torch.nn.modules.upsampling.Upsample         [None, 2, 'nearest']          \n",
      " 12             [-1, 6]  1         0  ultralytics.nn.modules.conv.Concat           [1]                           \n",
      " 13                  -1  1     90880  ultralytics.nn.modules.block.C3              [256, 128, 1, False]          \n",
      " 14                  -1  1      8320  ultralytics.nn.modules.conv.Conv             [128, 64, 1, 1]               \n",
      " 15                  -1  1         0  torch.nn.modules.upsampling.Upsample         [None, 2, 'nearest']          \n",
      " 16             [-1, 4]  1         0  ultralytics.nn.modules.conv.Concat           [1]                           \n",
      " 17                  -1  1     22912  ultralytics.nn.modules.block.C3              [128, 64, 1, False]           \n",
      " 18                  -1  1     36992  ultralytics.nn.modules.conv.Conv             [64, 64, 3, 2]                \n",
      " 19            [-1, 14]  1         0  ultralytics.nn.modules.conv.Concat           [1]                           \n",
      " 20                  -1  1     74496  ultralytics.nn.modules.block.C3              [128, 128, 1, False]          \n",
      " 21                  -1  1    147712  ultralytics.nn.modules.conv.Conv             [128, 128, 3, 2]              \n",
      " 22            [-1, 10]  1         0  ultralytics.nn.modules.conv.Concat           [1]                           \n",
      " 23                  -1  1    296448  ultralytics.nn.modules.block.C3              [256, 256, 1, False]          \n",
      " 24        [17, 20, 23]  1   1086604  ultralytics.nn.modules.head.Detect           [100, [64, 128, 256]]         \n",
      "YOLOv5n summary: 262 layers, 2,843,756 parameters, 2,843,740 gradients, 8.7 GFLOPs\n",
      "\n",
      "Freezing layer 'model.24.dfl.conv.weight'\n"
     ]
    },
    {
     "name": "stderr",
     "output_type": "stream",
     "text": [
      "\u001b[34m\u001b[1mtrain: \u001b[0mScanning /home/c13/main_venv/projects/preprocessed_images/train/00.cache... 23004 images, 0 backgrounds, 0 corrupt: 100%|██████████| 23004/23004 [00:00<?, ?it/s]"
     ]
    },
    {
     "name": "stdout",
     "output_type": "stream",
     "text": [
      "\u001b[34m\u001b[1mtrain: \u001b[0m9.9GB RAM required to cache images with 50% safety margin but only 2.5/15.4GB available, not caching images ⚠️\n"
     ]
    },
    {
     "name": "stderr",
     "output_type": "stream",
     "text": [
      "\n",
      "\u001b[34m\u001b[1mval: \u001b[0mScanning /home/c13/main_venv/projects/preprocessed_images/val/00.cache... 2000 images, 0 backgrounds, 0 corrupt: 100%|██████████| 2000/2000 [00:00<?, ?it/s]"
     ]
    },
    {
     "name": "stdout",
     "output_type": "stream",
     "text": [
      "WARNING ⚠️ cache='ram' may produce non-deterministic training results. Consider cache='disk' as a deterministic alternative if your disk space allows.\n"
     ]
    },
    {
     "name": "stderr",
     "output_type": "stream",
     "text": [
      "\n",
      "\u001b[34m\u001b[1mval: \u001b[0mCaching images (0.6GB RAM): 100%|██████████| 2000/2000 [00:00<00:00, 7217.94it/s] \n"
     ]
    },
    {
     "name": "stdout",
     "output_type": "stream",
     "text": [
      "Plotting labels to runs/detect/train7/labels.jpg... \n",
      "\u001b[34m\u001b[1moptimizer:\u001b[0m 'optimizer=auto' found, ignoring 'lr0=0.01' and 'momentum=0.937' and determining best 'optimizer', 'lr0' and 'momentum' automatically... \n",
      "\u001b[34m\u001b[1moptimizer:\u001b[0m AdamW(lr=9.6e-05, momentum=0.9) with parameter groups 69 weight(decay=0.0), 76 weight(decay=0.0005), 75 bias(decay=0.0)\n",
      "Image sizes 320 train, 320 val\n",
      "Using 0 dataloader workers\n",
      "Logging results to \u001b[1mruns/detect/train7\u001b[0m\n",
      "Starting training for 1 epochs...\n",
      "\n",
      "      Epoch    GPU_mem   box_loss   cls_loss   dfl_loss  Instances       Size\n"
     ]
    },
    {
     "name": "stderr",
     "output_type": "stream",
     "text": [
      "        1/1         0G      2.803      5.495      3.918         57        320:  81%|████████▏ | 1170/1438 [27:05<06:01,  1.35s/it]"
     ]
    }
   ],
   "source": [
    "results = train_model('yolov5n', **params)"
   ]
  },
  {
   "cell_type": "markdown",
   "metadata": {},
   "source": [
    "# Отчет\n",
    "##### Создана новая структура датасета\n",
    "##### Созданы метки классов для модели Yolo\n",
    "##### Написана функция для обучения нескольких моделей"
   ]
  },
  {
   "cell_type": "markdown",
   "metadata": {},
   "source": []
  }
 ],
 "metadata": {
  "kernelspec": {
   "display_name": "main_venv",
   "language": "python",
   "name": "python3"
  },
  "language_info": {
   "codemirror_mode": {
    "name": "ipython",
    "version": 3
   },
   "file_extension": ".py",
   "mimetype": "text/x-python",
   "name": "python",
   "nbconvert_exporter": "python",
   "pygments_lexer": "ipython3",
   "version": "3.11.2"
  }
 },
 "nbformat": 4,
 "nbformat_minor": 2
}
